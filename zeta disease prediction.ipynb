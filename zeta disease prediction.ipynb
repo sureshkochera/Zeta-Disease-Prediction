{
 "cells": [
  {
   "cell_type": "code",
   "execution_count": 50,
   "metadata": {},
   "outputs": [
    {
     "name": "stdout",
     "output_type": "stream",
     "text": [
      "              precision    recall  f1-score   support\n",
      "\n",
      "           0       0.82      0.84      0.83       156\n",
      "           1       0.69      0.67      0.68        84\n",
      "\n",
      "    accuracy                           0.78       240\n",
      "   macro avg       0.76      0.75      0.76       240\n",
      "weighted avg       0.78      0.78      0.78       240\n",
      "\n",
      "Cnfusion matrix [[131  25]\n",
      " [ 28  56]]\n",
      "Accuracy score 0.7791666666666667\n"
     ]
    }
   ],
   "source": [
    "#Import the required libraries\n",
    "import numpy as np \n",
    "import pandas as pd \n",
    "from sklearn.ensemble import RandomForestClassifier\n",
    "from sklearn.model_selection import train_test_split\n",
    "from sklearn.metrics import accuracy_score\n",
    "from sklearn.metrics import confusion_matrix\n",
    "from sklearn.preprocessing import LabelEncoder\n",
    "from sklearn.preprocessing import StandardScaler\n",
    "from sklearn.metrics import classification_report \n",
    "from sklearn.metrics import confusion_matrix, accuracy_score\n",
    "#Read training and test data into dataframes\n",
    "df = pd.read_csv('2021-01-21_zeta-disease_training-data_dsi-take-home-challenge.csv')\n",
    "df1=pd.read_csv('2021-01-21_zeta-disease_prediction-data_dsi-take-home-challenge.csv')\n",
    "#Check for Missing values\n",
    "#print(df.isna().sum())\n",
    "#Standardize the data\n",
    "sc = StandardScaler()\n",
    "X = df.iloc[:, :-1].values\n",
    "y = df.iloc[:, -1].values\n",
    "x_train, x_test, y_train, y_test = train_test_split(X,y,test_size = 0.3, random_state = 1)\n",
    "x_train = sc.fit_transform(x_train)\n",
    "x_test = sc.transform(x_test)\n",
    "#Random forest Classifier with 100 trees\n",
    "rf = RandomForestClassifier(n_estimators = 100, random_state = 42)\n",
    "rf.fit(x_train,y_train)\n",
    "y_pred = rf.predict(x_test)# get y predictions\n",
    "cm = confusion_matrix(y_test, y_pred)\n",
    "print(classification_report(y_test, y_pred))\n",
    "print('Cnfusion matrix',cm)\n",
    "print('Accuracy score',accuracy_score(y_test, y_pred))\n",
    "x_test_final=df1.iloc[:, :-1].values\n",
    "x_test_final = sc.transform(x_test_final)\n",
    "y_pred = rf.predict(x_test_final)\n",
    "df1['zeta_disease'] = y_pred\n",
    "df1.to_csv('2021-01-21_zeta-disease_prediction-data_dsi-take-home-challenge.csv',index=False)"
   ]
  },
  {
   "cell_type": "code",
   "execution_count": null,
   "metadata": {},
   "outputs": [],
   "source": []
  },
  {
   "cell_type": "code",
   "execution_count": null,
   "metadata": {},
   "outputs": [],
   "source": []
  }
 ],
 "metadata": {
  "kernelspec": {
   "display_name": "Python 3",
   "language": "python",
   "name": "python3"
  },
  "language_info": {
   "codemirror_mode": {
    "name": "ipython",
    "version": 3
   },
   "file_extension": ".py",
   "mimetype": "text/x-python",
   "name": "python",
   "nbconvert_exporter": "python",
   "pygments_lexer": "ipython3",
   "version": "3.7.4"
  }
 },
 "nbformat": 4,
 "nbformat_minor": 2
}
