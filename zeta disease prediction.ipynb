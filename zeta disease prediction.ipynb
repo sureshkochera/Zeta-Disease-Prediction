{
 "cells": [
  {
   "cell_type": "code",
   "execution_count": 34,
   "metadata": {},
   "outputs": [
    {
     "name": "stdout",
     "output_type": "stream",
     "text": [
      "age                   0\n",
      "weight                0\n",
      "bmi                   0\n",
      "blood_pressure        0\n",
      "insulin_test          0\n",
      "liver_stress_test     0\n",
      "cardio_stress_test    0\n",
      "years_smoking         0\n",
      "zeta_disease          0\n",
      "dtype: int64\n"
     ]
    }
   ],
   "source": [
    "#Import the required libraries\n",
    "import numpy as np \n",
    "import pandas as pd \n",
    "from sklearn.ensemble import RandomForestClassifier\n",
    "from sklearn.model_selection import train_test_split\n",
    "from sklearn.metrics import accuracy_score\n",
    "from sklearn.metrics import confusion_matrix\n",
    "from sklearn.preprocessing import LabelEncoder\n",
    "from sklearn.preprocessing import StandardScaler\n",
    "from sklearn.metrics import classification_report \n",
    "from sklearn.metrics import confusion_matrix, accuracy_score\n",
    "#Read training and test data into dataframes\n",
    "df = pd.read_csv('2021-01-21_zeta-disease_training-data_dsi-take-home-challenge.csv')\n",
    "df1=pd.read_csv('2021-01-21_zeta-disease_prediction-data_dsi-take-home-challenge.csv')\n",
    "#Check for Missing values\n",
    "#print(df.isna().sum())\n",
    "#Standardize the data\n",
    "sc = StandardScaler()\n",
    "x_train = df.iloc[:, :-1].values\n",
    "y_train = df.iloc[:, -1].values\n",
    "#x_train, x_test, y_train, y_test = train_test_split(X,y,test_size = 0.3, random_state = 1)\n",
    "x_train = sc.fit_transform(x_train)\n",
    "x_test=df1.iloc[:, :-1].values\n",
    "x_test = sc.transform(x_test)\n",
    "#Random forest Classifier with 1000 trees\n",
    "rf = RandomForestClassifier(n_estimators = 1000, random_state = 42)\n",
    "rf.fit(x_train,y_train)\n",
    "y_pred = rf.predict(x_test) # get y predictions\n",
    "df1['zeta_disease'] = y_pred\n",
    "df1.to_csv('2021-01-21_zeta-disease_prediction-data_dsi-take-home-challenge.csv',index=False)"
   ]
  },
  {
   "cell_type": "code",
   "execution_count": null,
   "metadata": {},
   "outputs": [],
   "source": []
  },
  {
   "cell_type": "code",
   "execution_count": null,
   "metadata": {},
   "outputs": [],
   "source": []
  }
 ],
 "metadata": {
  "kernelspec": {
   "display_name": "Python 3",
   "language": "python",
   "name": "python3"
  },
  "language_info": {
   "codemirror_mode": {
    "name": "ipython",
    "version": 3
   },
   "file_extension": ".py",
   "mimetype": "text/x-python",
   "name": "python",
   "nbconvert_exporter": "python",
   "pygments_lexer": "ipython3",
   "version": "3.7.4"
  }
 },
 "nbformat": 4,
 "nbformat_minor": 2
}
